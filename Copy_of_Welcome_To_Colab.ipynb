{
  "cells": [
    {
      "cell_type": "markdown",
      "source": [
        "**A/B TESTING**"
      ],
      "metadata": {
        "id": "XiO0gavwPecq"
      }
    },
    {
      "cell_type": "code",
      "source": [
        "import pandas as pd\n",
        "import numpy as np\n",
        "import matplotlib.pyplot as plt\n",
        "import seaborn as sns\n",
        "import scipy.stats as stats"
      ],
      "metadata": {
        "id": "kmLlMN0cLWRo"
      },
      "execution_count": null,
      "outputs": []
    },
    {
      "cell_type": "code",
      "source": [
        "url = \"https://docs.google.com/spreadsheets/d/1lNKEMrgFF4akPhIS6GyCJ_OaZUsn0VVo/export?format=csv\""
      ],
      "metadata": {
        "id": "c6geLc5CLeob"
      },
      "execution_count": null,
      "outputs": []
    },
    {
      "cell_type": "code",
      "source": [
        "df = pd.read_csv(url)\n",
        "df.head()"
      ],
      "metadata": {
        "id": "wlnkGFqiLn3Y",
        "outputId": "f9a50aad-ef83-4f13-e559-210275556fed",
        "colab": {
          "base_uri": "https://localhost:8080/",
          "height": 206
        }
      },
      "execution_count": null,
      "outputs": [
        {
          "output_type": "execute_result",
          "data": {
            "text/plain": [
              "   user_id group  converted time_spent(second) order_value_idr\n",
              "0        1     A          0        117,5209442             NaN\n",
              "1        2     B          0        101,7614061             NaN\n",
              "2        3     B          1        98,27599065     Rp 699.364 \n",
              "3        4     B          0        111,5483958             NaN\n",
              "4        5     A          0        105,2558401             NaN"
            ],
            "text/html": [
              "\n",
              "  <div id=\"df-e8687454-88b5-4856-a052-2847943640b0\" class=\"colab-df-container\">\n",
              "    <div>\n",
              "<style scoped>\n",
              "    .dataframe tbody tr th:only-of-type {\n",
              "        vertical-align: middle;\n",
              "    }\n",
              "\n",
              "    .dataframe tbody tr th {\n",
              "        vertical-align: top;\n",
              "    }\n",
              "\n",
              "    .dataframe thead th {\n",
              "        text-align: right;\n",
              "    }\n",
              "</style>\n",
              "<table border=\"1\" class=\"dataframe\">\n",
              "  <thead>\n",
              "    <tr style=\"text-align: right;\">\n",
              "      <th></th>\n",
              "      <th>user_id</th>\n",
              "      <th>group</th>\n",
              "      <th>converted</th>\n",
              "      <th>time_spent(second)</th>\n",
              "      <th>order_value_idr</th>\n",
              "    </tr>\n",
              "  </thead>\n",
              "  <tbody>\n",
              "    <tr>\n",
              "      <th>0</th>\n",
              "      <td>1</td>\n",
              "      <td>A</td>\n",
              "      <td>0</td>\n",
              "      <td>117,5209442</td>\n",
              "      <td>NaN</td>\n",
              "    </tr>\n",
              "    <tr>\n",
              "      <th>1</th>\n",
              "      <td>2</td>\n",
              "      <td>B</td>\n",
              "      <td>0</td>\n",
              "      <td>101,7614061</td>\n",
              "      <td>NaN</td>\n",
              "    </tr>\n",
              "    <tr>\n",
              "      <th>2</th>\n",
              "      <td>3</td>\n",
              "      <td>B</td>\n",
              "      <td>1</td>\n",
              "      <td>98,27599065</td>\n",
              "      <td>Rp 699.364</td>\n",
              "    </tr>\n",
              "    <tr>\n",
              "      <th>3</th>\n",
              "      <td>4</td>\n",
              "      <td>B</td>\n",
              "      <td>0</td>\n",
              "      <td>111,5483958</td>\n",
              "      <td>NaN</td>\n",
              "    </tr>\n",
              "    <tr>\n",
              "      <th>4</th>\n",
              "      <td>5</td>\n",
              "      <td>A</td>\n",
              "      <td>0</td>\n",
              "      <td>105,2558401</td>\n",
              "      <td>NaN</td>\n",
              "    </tr>\n",
              "  </tbody>\n",
              "</table>\n",
              "</div>\n",
              "    <div class=\"colab-df-buttons\">\n",
              "\n",
              "  <div class=\"colab-df-container\">\n",
              "    <button class=\"colab-df-convert\" onclick=\"convertToInteractive('df-e8687454-88b5-4856-a052-2847943640b0')\"\n",
              "            title=\"Convert this dataframe to an interactive table.\"\n",
              "            style=\"display:none;\">\n",
              "\n",
              "  <svg xmlns=\"http://www.w3.org/2000/svg\" height=\"24px\" viewBox=\"0 -960 960 960\">\n",
              "    <path d=\"M120-120v-720h720v720H120Zm60-500h600v-160H180v160Zm220 220h160v-160H400v160Zm0 220h160v-160H400v160ZM180-400h160v-160H180v160Zm440 0h160v-160H620v160ZM180-180h160v-160H180v160Zm440 0h160v-160H620v160Z\"/>\n",
              "  </svg>\n",
              "    </button>\n",
              "\n",
              "  <style>\n",
              "    .colab-df-container {\n",
              "      display:flex;\n",
              "      gap: 12px;\n",
              "    }\n",
              "\n",
              "    .colab-df-convert {\n",
              "      background-color: #E8F0FE;\n",
              "      border: none;\n",
              "      border-radius: 50%;\n",
              "      cursor: pointer;\n",
              "      display: none;\n",
              "      fill: #1967D2;\n",
              "      height: 32px;\n",
              "      padding: 0 0 0 0;\n",
              "      width: 32px;\n",
              "    }\n",
              "\n",
              "    .colab-df-convert:hover {\n",
              "      background-color: #E2EBFA;\n",
              "      box-shadow: 0px 1px 2px rgba(60, 64, 67, 0.3), 0px 1px 3px 1px rgba(60, 64, 67, 0.15);\n",
              "      fill: #174EA6;\n",
              "    }\n",
              "\n",
              "    .colab-df-buttons div {\n",
              "      margin-bottom: 4px;\n",
              "    }\n",
              "\n",
              "    [theme=dark] .colab-df-convert {\n",
              "      background-color: #3B4455;\n",
              "      fill: #D2E3FC;\n",
              "    }\n",
              "\n",
              "    [theme=dark] .colab-df-convert:hover {\n",
              "      background-color: #434B5C;\n",
              "      box-shadow: 0px 1px 3px 1px rgba(0, 0, 0, 0.15);\n",
              "      filter: drop-shadow(0px 1px 2px rgba(0, 0, 0, 0.3));\n",
              "      fill: #FFFFFF;\n",
              "    }\n",
              "  </style>\n",
              "\n",
              "    <script>\n",
              "      const buttonEl =\n",
              "        document.querySelector('#df-e8687454-88b5-4856-a052-2847943640b0 button.colab-df-convert');\n",
              "      buttonEl.style.display =\n",
              "        google.colab.kernel.accessAllowed ? 'block' : 'none';\n",
              "\n",
              "      async function convertToInteractive(key) {\n",
              "        const element = document.querySelector('#df-e8687454-88b5-4856-a052-2847943640b0');\n",
              "        const dataTable =\n",
              "          await google.colab.kernel.invokeFunction('convertToInteractive',\n",
              "                                                    [key], {});\n",
              "        if (!dataTable) return;\n",
              "\n",
              "        const docLinkHtml = 'Like what you see? Visit the ' +\n",
              "          '<a target=\"_blank\" href=https://colab.research.google.com/notebooks/data_table.ipynb>data table notebook</a>'\n",
              "          + ' to learn more about interactive tables.';\n",
              "        element.innerHTML = '';\n",
              "        dataTable['output_type'] = 'display_data';\n",
              "        await google.colab.output.renderOutput(dataTable, element);\n",
              "        const docLink = document.createElement('div');\n",
              "        docLink.innerHTML = docLinkHtml;\n",
              "        element.appendChild(docLink);\n",
              "      }\n",
              "    </script>\n",
              "  </div>\n",
              "\n",
              "\n",
              "    <div id=\"df-b0707a7f-5a8c-4c4f-9bda-5ddd3fdafb58\">\n",
              "      <button class=\"colab-df-quickchart\" onclick=\"quickchart('df-b0707a7f-5a8c-4c4f-9bda-5ddd3fdafb58')\"\n",
              "                title=\"Suggest charts\"\n",
              "                style=\"display:none;\">\n",
              "\n",
              "<svg xmlns=\"http://www.w3.org/2000/svg\" height=\"24px\"viewBox=\"0 0 24 24\"\n",
              "     width=\"24px\">\n",
              "    <g>\n",
              "        <path d=\"M19 3H5c-1.1 0-2 .9-2 2v14c0 1.1.9 2 2 2h14c1.1 0 2-.9 2-2V5c0-1.1-.9-2-2-2zM9 17H7v-7h2v7zm4 0h-2V7h2v10zm4 0h-2v-4h2v4z\"/>\n",
              "    </g>\n",
              "</svg>\n",
              "      </button>\n",
              "\n",
              "<style>\n",
              "  .colab-df-quickchart {\n",
              "      --bg-color: #E8F0FE;\n",
              "      --fill-color: #1967D2;\n",
              "      --hover-bg-color: #E2EBFA;\n",
              "      --hover-fill-color: #174EA6;\n",
              "      --disabled-fill-color: #AAA;\n",
              "      --disabled-bg-color: #DDD;\n",
              "  }\n",
              "\n",
              "  [theme=dark] .colab-df-quickchart {\n",
              "      --bg-color: #3B4455;\n",
              "      --fill-color: #D2E3FC;\n",
              "      --hover-bg-color: #434B5C;\n",
              "      --hover-fill-color: #FFFFFF;\n",
              "      --disabled-bg-color: #3B4455;\n",
              "      --disabled-fill-color: #666;\n",
              "  }\n",
              "\n",
              "  .colab-df-quickchart {\n",
              "    background-color: var(--bg-color);\n",
              "    border: none;\n",
              "    border-radius: 50%;\n",
              "    cursor: pointer;\n",
              "    display: none;\n",
              "    fill: var(--fill-color);\n",
              "    height: 32px;\n",
              "    padding: 0;\n",
              "    width: 32px;\n",
              "  }\n",
              "\n",
              "  .colab-df-quickchart:hover {\n",
              "    background-color: var(--hover-bg-color);\n",
              "    box-shadow: 0 1px 2px rgba(60, 64, 67, 0.3), 0 1px 3px 1px rgba(60, 64, 67, 0.15);\n",
              "    fill: var(--button-hover-fill-color);\n",
              "  }\n",
              "\n",
              "  .colab-df-quickchart-complete:disabled,\n",
              "  .colab-df-quickchart-complete:disabled:hover {\n",
              "    background-color: var(--disabled-bg-color);\n",
              "    fill: var(--disabled-fill-color);\n",
              "    box-shadow: none;\n",
              "  }\n",
              "\n",
              "  .colab-df-spinner {\n",
              "    border: 2px solid var(--fill-color);\n",
              "    border-color: transparent;\n",
              "    border-bottom-color: var(--fill-color);\n",
              "    animation:\n",
              "      spin 1s steps(1) infinite;\n",
              "  }\n",
              "\n",
              "  @keyframes spin {\n",
              "    0% {\n",
              "      border-color: transparent;\n",
              "      border-bottom-color: var(--fill-color);\n",
              "      border-left-color: var(--fill-color);\n",
              "    }\n",
              "    20% {\n",
              "      border-color: transparent;\n",
              "      border-left-color: var(--fill-color);\n",
              "      border-top-color: var(--fill-color);\n",
              "    }\n",
              "    30% {\n",
              "      border-color: transparent;\n",
              "      border-left-color: var(--fill-color);\n",
              "      border-top-color: var(--fill-color);\n",
              "      border-right-color: var(--fill-color);\n",
              "    }\n",
              "    40% {\n",
              "      border-color: transparent;\n",
              "      border-right-color: var(--fill-color);\n",
              "      border-top-color: var(--fill-color);\n",
              "    }\n",
              "    60% {\n",
              "      border-color: transparent;\n",
              "      border-right-color: var(--fill-color);\n",
              "    }\n",
              "    80% {\n",
              "      border-color: transparent;\n",
              "      border-right-color: var(--fill-color);\n",
              "      border-bottom-color: var(--fill-color);\n",
              "    }\n",
              "    90% {\n",
              "      border-color: transparent;\n",
              "      border-bottom-color: var(--fill-color);\n",
              "    }\n",
              "  }\n",
              "</style>\n",
              "\n",
              "      <script>\n",
              "        async function quickchart(key) {\n",
              "          const quickchartButtonEl =\n",
              "            document.querySelector('#' + key + ' button');\n",
              "          quickchartButtonEl.disabled = true;  // To prevent multiple clicks.\n",
              "          quickchartButtonEl.classList.add('colab-df-spinner');\n",
              "          try {\n",
              "            const charts = await google.colab.kernel.invokeFunction(\n",
              "                'suggestCharts', [key], {});\n",
              "          } catch (error) {\n",
              "            console.error('Error during call to suggestCharts:', error);\n",
              "          }\n",
              "          quickchartButtonEl.classList.remove('colab-df-spinner');\n",
              "          quickchartButtonEl.classList.add('colab-df-quickchart-complete');\n",
              "        }\n",
              "        (() => {\n",
              "          let quickchartButtonEl =\n",
              "            document.querySelector('#df-b0707a7f-5a8c-4c4f-9bda-5ddd3fdafb58 button');\n",
              "          quickchartButtonEl.style.display =\n",
              "            google.colab.kernel.accessAllowed ? 'block' : 'none';\n",
              "        })();\n",
              "      </script>\n",
              "    </div>\n",
              "\n",
              "    </div>\n",
              "  </div>\n"
            ],
            "application/vnd.google.colaboratory.intrinsic+json": {
              "type": "dataframe",
              "variable_name": "df",
              "summary": "{\n  \"name\": \"df\",\n  \"rows\": 100000,\n  \"fields\": [\n    {\n      \"column\": \"user_id\",\n      \"properties\": {\n        \"dtype\": \"number\",\n        \"std\": 28867,\n        \"min\": 1,\n        \"max\": 100000,\n        \"num_unique_values\": 100000,\n        \"samples\": [\n          75722,\n          80185,\n          19865\n        ],\n        \"semantic_type\": \"\",\n        \"description\": \"\"\n      }\n    },\n    {\n      \"column\": \"group\",\n      \"properties\": {\n        \"dtype\": \"category\",\n        \"num_unique_values\": 2,\n        \"samples\": [\n          \"B\",\n          \"A\"\n        ],\n        \"semantic_type\": \"\",\n        \"description\": \"\"\n      }\n    },\n    {\n      \"column\": \"converted\",\n      \"properties\": {\n        \"dtype\": \"number\",\n        \"std\": 0,\n        \"min\": 0,\n        \"max\": 1,\n        \"num_unique_values\": 2,\n        \"samples\": [\n          1,\n          0\n        ],\n        \"semantic_type\": \"\",\n        \"description\": \"\"\n      }\n    },\n    {\n      \"column\": \"time_spent(second)\",\n      \"properties\": {\n        \"dtype\": \"string\",\n        \"num_unique_values\": 99996,\n        \"samples\": [\n          \"91,21577337\",\n          \"127,6118659\"\n        ],\n        \"semantic_type\": \"\",\n        \"description\": \"\"\n      }\n    },\n    {\n      \"column\": \"order_value_idr\",\n      \"properties\": {\n        \"dtype\": \"category\",\n        \"num_unique_values\": 9382,\n        \"samples\": [\n          \" Rp 607.544 \",\n          \" Rp 934.376 \"\n        ],\n        \"semantic_type\": \"\",\n        \"description\": \"\"\n      }\n    }\n  ]\n}"
            }
          },
          "metadata": {},
          "execution_count": 23
        }
      ]
    },
    {
      "cell_type": "code",
      "source": [
        "# Menangani NaN di order_value_idr\n",
        "df[\"order_value_idr\"] = pd.to_numeric(df[\"order_value_idr\"], errors=\"coerce\").fillna(0).astype(\"int64\")"
      ],
      "metadata": {
        "id": "u6rXZx6jL0nC"
      },
      "execution_count": null,
      "outputs": []
    },
    {
      "cell_type": "code",
      "source": [
        "# Menangani NaN di time_spend(second)\n",
        "df[\"time_spent(second)\"] = pd.to_numeric(df[\"time_spent(second)\"].str.replace(',', '.'), errors='coerce')\n",
        "median_time_spend = df[\"time_spent(second)\"].median()\n",
        "df[\"time_spent(second)\"] = df[\"time_spent(second)\"].fillna(median_time_spend)"
      ],
      "metadata": {
        "id": "DEp7CpLlL9nG"
      },
      "execution_count": null,
      "outputs": []
    },
    {
      "cell_type": "code",
      "source": [
        "df.isnull().sum()"
      ],
      "metadata": {
        "id": "tkriDJKQMGst",
        "outputId": "63167569-75de-45b3-9c75-72df21bfeb63",
        "colab": {
          "base_uri": "https://localhost:8080/",
          "height": 241
        }
      },
      "execution_count": null,
      "outputs": [
        {
          "output_type": "execute_result",
          "data": {
            "text/plain": [
              "user_id               0\n",
              "group                 0\n",
              "converted             0\n",
              "time_spent(second)    0\n",
              "order_value_idr       0\n",
              "dtype: int64"
            ],
            "text/html": [
              "<div>\n",
              "<style scoped>\n",
              "    .dataframe tbody tr th:only-of-type {\n",
              "        vertical-align: middle;\n",
              "    }\n",
              "\n",
              "    .dataframe tbody tr th {\n",
              "        vertical-align: top;\n",
              "    }\n",
              "\n",
              "    .dataframe thead th {\n",
              "        text-align: right;\n",
              "    }\n",
              "</style>\n",
              "<table border=\"1\" class=\"dataframe\">\n",
              "  <thead>\n",
              "    <tr style=\"text-align: right;\">\n",
              "      <th></th>\n",
              "      <th>0</th>\n",
              "    </tr>\n",
              "  </thead>\n",
              "  <tbody>\n",
              "    <tr>\n",
              "      <th>user_id</th>\n",
              "      <td>0</td>\n",
              "    </tr>\n",
              "    <tr>\n",
              "      <th>group</th>\n",
              "      <td>0</td>\n",
              "    </tr>\n",
              "    <tr>\n",
              "      <th>converted</th>\n",
              "      <td>0</td>\n",
              "    </tr>\n",
              "    <tr>\n",
              "      <th>time_spent(second)</th>\n",
              "      <td>0</td>\n",
              "    </tr>\n",
              "    <tr>\n",
              "      <th>order_value_idr</th>\n",
              "      <td>0</td>\n",
              "    </tr>\n",
              "  </tbody>\n",
              "</table>\n",
              "</div><br><label><b>dtype:</b> int64</label>"
            ]
          },
          "metadata": {},
          "execution_count": 26
        }
      ]
    },
    {
      "cell_type": "markdown",
      "source": [
        "3. Explorasi Data"
      ],
      "metadata": {
        "id": "zAh3EzTDMrQA"
      }
    },
    {
      "cell_type": "code",
      "source": [
        "df.info()"
      ],
      "metadata": {
        "id": "oet9UWl9M2Ji",
        "outputId": "fbe62e15-55f1-434e-e0ae-65220a4ceef5",
        "colab": {
          "base_uri": "https://localhost:8080/"
        }
      },
      "execution_count": null,
      "outputs": [
        {
          "output_type": "stream",
          "name": "stdout",
          "text": [
            "<class 'pandas.core.frame.DataFrame'>\n",
            "RangeIndex: 100000 entries, 0 to 99999\n",
            "Data columns (total 5 columns):\n",
            " #   Column              Non-Null Count   Dtype  \n",
            "---  ------              --------------   -----  \n",
            " 0   user_id             100000 non-null  int64  \n",
            " 1   group               100000 non-null  object \n",
            " 2   converted           100000 non-null  int64  \n",
            " 3   time_spent(second)  100000 non-null  float64\n",
            " 4   order_value_idr     100000 non-null  int64  \n",
            "dtypes: float64(1), int64(3), object(1)\n",
            "memory usage: 3.8+ MB\n"
          ]
        }
      ]
    },
    {
      "cell_type": "code",
      "source": [
        "df.describe()"
      ],
      "metadata": {
        "id": "CyED2_efNASr",
        "outputId": "00083d79-6134-4bc4-9d30-64c070675e92",
        "colab": {
          "base_uri": "https://localhost:8080/",
          "height": 300
        }
      },
      "execution_count": null,
      "outputs": [
        {
          "output_type": "execute_result",
          "data": {
            "text/plain": [
              "             user_id     converted  time_spent(second)  order_value_idr\n",
              "count  100000.000000  100000.00000       100000.000000         100000.0\n",
              "mean    50000.500000       0.09454          109.848871              0.0\n",
              "std     28867.657797       0.29258           27.327606              0.0\n",
              "min         1.000000       0.00000          -12.126419              0.0\n",
              "25%     25000.750000       0.00000           91.219559              0.0\n",
              "50%     50000.500000       0.00000          107.953437              0.0\n",
              "75%     75000.250000       0.00000          126.575044              0.0\n",
              "max    100000.000000       1.00000          246.580990              0.0"
            ],
            "text/html": [
              "\n",
              "  <div id=\"df-5706603f-c812-4a82-a37c-8652bfd71242\" class=\"colab-df-container\">\n",
              "    <div>\n",
              "<style scoped>\n",
              "    .dataframe tbody tr th:only-of-type {\n",
              "        vertical-align: middle;\n",
              "    }\n",
              "\n",
              "    .dataframe tbody tr th {\n",
              "        vertical-align: top;\n",
              "    }\n",
              "\n",
              "    .dataframe thead th {\n",
              "        text-align: right;\n",
              "    }\n",
              "</style>\n",
              "<table border=\"1\" class=\"dataframe\">\n",
              "  <thead>\n",
              "    <tr style=\"text-align: right;\">\n",
              "      <th></th>\n",
              "      <th>user_id</th>\n",
              "      <th>converted</th>\n",
              "      <th>time_spent(second)</th>\n",
              "      <th>order_value_idr</th>\n",
              "    </tr>\n",
              "  </thead>\n",
              "  <tbody>\n",
              "    <tr>\n",
              "      <th>count</th>\n",
              "      <td>100000.000000</td>\n",
              "      <td>100000.00000</td>\n",
              "      <td>100000.000000</td>\n",
              "      <td>100000.0</td>\n",
              "    </tr>\n",
              "    <tr>\n",
              "      <th>mean</th>\n",
              "      <td>50000.500000</td>\n",
              "      <td>0.09454</td>\n",
              "      <td>109.848871</td>\n",
              "      <td>0.0</td>\n",
              "    </tr>\n",
              "    <tr>\n",
              "      <th>std</th>\n",
              "      <td>28867.657797</td>\n",
              "      <td>0.29258</td>\n",
              "      <td>27.327606</td>\n",
              "      <td>0.0</td>\n",
              "    </tr>\n",
              "    <tr>\n",
              "      <th>min</th>\n",
              "      <td>1.000000</td>\n",
              "      <td>0.00000</td>\n",
              "      <td>-12.126419</td>\n",
              "      <td>0.0</td>\n",
              "    </tr>\n",
              "    <tr>\n",
              "      <th>25%</th>\n",
              "      <td>25000.750000</td>\n",
              "      <td>0.00000</td>\n",
              "      <td>91.219559</td>\n",
              "      <td>0.0</td>\n",
              "    </tr>\n",
              "    <tr>\n",
              "      <th>50%</th>\n",
              "      <td>50000.500000</td>\n",
              "      <td>0.00000</td>\n",
              "      <td>107.953437</td>\n",
              "      <td>0.0</td>\n",
              "    </tr>\n",
              "    <tr>\n",
              "      <th>75%</th>\n",
              "      <td>75000.250000</td>\n",
              "      <td>0.00000</td>\n",
              "      <td>126.575044</td>\n",
              "      <td>0.0</td>\n",
              "    </tr>\n",
              "    <tr>\n",
              "      <th>max</th>\n",
              "      <td>100000.000000</td>\n",
              "      <td>1.00000</td>\n",
              "      <td>246.580990</td>\n",
              "      <td>0.0</td>\n",
              "    </tr>\n",
              "  </tbody>\n",
              "</table>\n",
              "</div>\n",
              "    <div class=\"colab-df-buttons\">\n",
              "\n",
              "  <div class=\"colab-df-container\">\n",
              "    <button class=\"colab-df-convert\" onclick=\"convertToInteractive('df-5706603f-c812-4a82-a37c-8652bfd71242')\"\n",
              "            title=\"Convert this dataframe to an interactive table.\"\n",
              "            style=\"display:none;\">\n",
              "\n",
              "  <svg xmlns=\"http://www.w3.org/2000/svg\" height=\"24px\" viewBox=\"0 -960 960 960\">\n",
              "    <path d=\"M120-120v-720h720v720H120Zm60-500h600v-160H180v160Zm220 220h160v-160H400v160Zm0 220h160v-160H400v160ZM180-400h160v-160H180v160Zm440 0h160v-160H620v160ZM180-180h160v-160H180v160Zm440 0h160v-160H620v160Z\"/>\n",
              "  </svg>\n",
              "    </button>\n",
              "\n",
              "  <style>\n",
              "    .colab-df-container {\n",
              "      display:flex;\n",
              "      gap: 12px;\n",
              "    }\n",
              "\n",
              "    .colab-df-convert {\n",
              "      background-color: #E8F0FE;\n",
              "      border: none;\n",
              "      border-radius: 50%;\n",
              "      cursor: pointer;\n",
              "      display: none;\n",
              "      fill: #1967D2;\n",
              "      height: 32px;\n",
              "      padding: 0 0 0 0;\n",
              "      width: 32px;\n",
              "    }\n",
              "\n",
              "    .colab-df-convert:hover {\n",
              "      background-color: #E2EBFA;\n",
              "      box-shadow: 0px 1px 2px rgba(60, 64, 67, 0.3), 0px 1px 3px 1px rgba(60, 64, 67, 0.15);\n",
              "      fill: #174EA6;\n",
              "    }\n",
              "\n",
              "    .colab-df-buttons div {\n",
              "      margin-bottom: 4px;\n",
              "    }\n",
              "\n",
              "    [theme=dark] .colab-df-convert {\n",
              "      background-color: #3B4455;\n",
              "      fill: #D2E3FC;\n",
              "    }\n",
              "\n",
              "    [theme=dark] .colab-df-convert:hover {\n",
              "      background-color: #434B5C;\n",
              "      box-shadow: 0px 1px 3px 1px rgba(0, 0, 0, 0.15);\n",
              "      filter: drop-shadow(0px 1px 2px rgba(0, 0, 0, 0.3));\n",
              "      fill: #FFFFFF;\n",
              "    }\n",
              "  </style>\n",
              "\n",
              "    <script>\n",
              "      const buttonEl =\n",
              "        document.querySelector('#df-5706603f-c812-4a82-a37c-8652bfd71242 button.colab-df-convert');\n",
              "      buttonEl.style.display =\n",
              "        google.colab.kernel.accessAllowed ? 'block' : 'none';\n",
              "\n",
              "      async function convertToInteractive(key) {\n",
              "        const element = document.querySelector('#df-5706603f-c812-4a82-a37c-8652bfd71242');\n",
              "        const dataTable =\n",
              "          await google.colab.kernel.invokeFunction('convertToInteractive',\n",
              "                                                    [key], {});\n",
              "        if (!dataTable) return;\n",
              "\n",
              "        const docLinkHtml = 'Like what you see? Visit the ' +\n",
              "          '<a target=\"_blank\" href=https://colab.research.google.com/notebooks/data_table.ipynb>data table notebook</a>'\n",
              "          + ' to learn more about interactive tables.';\n",
              "        element.innerHTML = '';\n",
              "        dataTable['output_type'] = 'display_data';\n",
              "        await google.colab.output.renderOutput(dataTable, element);\n",
              "        const docLink = document.createElement('div');\n",
              "        docLink.innerHTML = docLinkHtml;\n",
              "        element.appendChild(docLink);\n",
              "      }\n",
              "    </script>\n",
              "  </div>\n",
              "\n",
              "\n",
              "    <div id=\"df-16944c21-8ad6-456c-9369-948411b1d675\">\n",
              "      <button class=\"colab-df-quickchart\" onclick=\"quickchart('df-16944c21-8ad6-456c-9369-948411b1d675')\"\n",
              "                title=\"Suggest charts\"\n",
              "                style=\"display:none;\">\n",
              "\n",
              "<svg xmlns=\"http://www.w3.org/2000/svg\" height=\"24px\"viewBox=\"0 0 24 24\"\n",
              "     width=\"24px\">\n",
              "    <g>\n",
              "        <path d=\"M19 3H5c-1.1 0-2 .9-2 2v14c0 1.1.9 2 2 2h14c1.1 0 2-.9 2-2V5c0-1.1-.9-2-2-2zM9 17H7v-7h2v7zm4 0h-2V7h2v10zm4 0h-2v-4h2v4z\"/>\n",
              "    </g>\n",
              "</svg>\n",
              "      </button>\n",
              "\n",
              "<style>\n",
              "  .colab-df-quickchart {\n",
              "      --bg-color: #E8F0FE;\n",
              "      --fill-color: #1967D2;\n",
              "      --hover-bg-color: #E2EBFA;\n",
              "      --hover-fill-color: #174EA6;\n",
              "      --disabled-fill-color: #AAA;\n",
              "      --disabled-bg-color: #DDD;\n",
              "  }\n",
              "\n",
              "  [theme=dark] .colab-df-quickchart {\n",
              "      --bg-color: #3B4455;\n",
              "      --fill-color: #D2E3FC;\n",
              "      --hover-bg-color: #434B5C;\n",
              "      --hover-fill-color: #FFFFFF;\n",
              "      --disabled-bg-color: #3B4455;\n",
              "      --disabled-fill-color: #666;\n",
              "  }\n",
              "\n",
              "  .colab-df-quickchart {\n",
              "    background-color: var(--bg-color);\n",
              "    border: none;\n",
              "    border-radius: 50%;\n",
              "    cursor: pointer;\n",
              "    display: none;\n",
              "    fill: var(--fill-color);\n",
              "    height: 32px;\n",
              "    padding: 0;\n",
              "    width: 32px;\n",
              "  }\n",
              "\n",
              "  .colab-df-quickchart:hover {\n",
              "    background-color: var(--hover-bg-color);\n",
              "    box-shadow: 0 1px 2px rgba(60, 64, 67, 0.3), 0 1px 3px 1px rgba(60, 64, 67, 0.15);\n",
              "    fill: var(--button-hover-fill-color);\n",
              "  }\n",
              "\n",
              "  .colab-df-quickchart-complete:disabled,\n",
              "  .colab-df-quickchart-complete:disabled:hover {\n",
              "    background-color: var(--disabled-bg-color);\n",
              "    fill: var(--disabled-fill-color);\n",
              "    box-shadow: none;\n",
              "  }\n",
              "\n",
              "  .colab-df-spinner {\n",
              "    border: 2px solid var(--fill-color);\n",
              "    border-color: transparent;\n",
              "    border-bottom-color: var(--fill-color);\n",
              "    animation:\n",
              "      spin 1s steps(1) infinite;\n",
              "  }\n",
              "\n",
              "  @keyframes spin {\n",
              "    0% {\n",
              "      border-color: transparent;\n",
              "      border-bottom-color: var(--fill-color);\n",
              "      border-left-color: var(--fill-color);\n",
              "    }\n",
              "    20% {\n",
              "      border-color: transparent;\n",
              "      border-left-color: var(--fill-color);\n",
              "      border-top-color: var(--fill-color);\n",
              "    }\n",
              "    30% {\n",
              "      border-color: transparent;\n",
              "      border-left-color: var(--fill-color);\n",
              "      border-top-color: var(--fill-color);\n",
              "      border-right-color: var(--fill-color);\n",
              "    }\n",
              "    40% {\n",
              "      border-color: transparent;\n",
              "      border-right-color: var(--fill-color);\n",
              "      border-top-color: var(--fill-color);\n",
              "    }\n",
              "    60% {\n",
              "      border-color: transparent;\n",
              "      border-right-color: var(--fill-color);\n",
              "    }\n",
              "    80% {\n",
              "      border-color: transparent;\n",
              "      border-right-color: var(--fill-color);\n",
              "      border-bottom-color: var(--fill-color);\n",
              "    }\n",
              "    90% {\n",
              "      border-color: transparent;\n",
              "      border-bottom-color: var(--fill-color);\n",
              "    }\n",
              "  }\n",
              "</style>\n",
              "\n",
              "      <script>\n",
              "        async function quickchart(key) {\n",
              "          const quickchartButtonEl =\n",
              "            document.querySelector('#' + key + ' button');\n",
              "          quickchartButtonEl.disabled = true;  // To prevent multiple clicks.\n",
              "          quickchartButtonEl.classList.add('colab-df-spinner');\n",
              "          try {\n",
              "            const charts = await google.colab.kernel.invokeFunction(\n",
              "                'suggestCharts', [key], {});\n",
              "          } catch (error) {\n",
              "            console.error('Error during call to suggestCharts:', error);\n",
              "          }\n",
              "          quickchartButtonEl.classList.remove('colab-df-spinner');\n",
              "          quickchartButtonEl.classList.add('colab-df-quickchart-complete');\n",
              "        }\n",
              "        (() => {\n",
              "          let quickchartButtonEl =\n",
              "            document.querySelector('#df-16944c21-8ad6-456c-9369-948411b1d675 button');\n",
              "          quickchartButtonEl.style.display =\n",
              "            google.colab.kernel.accessAllowed ? 'block' : 'none';\n",
              "        })();\n",
              "      </script>\n",
              "    </div>\n",
              "\n",
              "    </div>\n",
              "  </div>\n"
            ],
            "application/vnd.google.colaboratory.intrinsic+json": {
              "type": "dataframe",
              "summary": "{\n  \"name\": \"df\",\n  \"rows\": 8,\n  \"fields\": [\n    {\n      \"column\": \"user_id\",\n      \"properties\": {\n        \"dtype\": \"number\",\n        \"std\": 36040.179024688565,\n        \"min\": 1.0,\n        \"max\": 100000.0,\n        \"num_unique_values\": 6,\n        \"samples\": [\n          100000.0,\n          50000.5,\n          75000.25\n        ],\n        \"semantic_type\": \"\",\n        \"description\": \"\"\n      }\n    },\n    {\n      \"column\": \"converted\",\n      \"properties\": {\n        \"dtype\": \"number\",\n        \"std\": 35355.26900084451,\n        \"min\": 0.0,\n        \"max\": 100000.0,\n        \"num_unique_values\": 5,\n        \"samples\": [\n          0.09454,\n          1.0,\n          0.2925799795447772\n        ],\n        \"semantic_type\": \"\",\n        \"description\": \"\"\n      }\n    },\n    {\n      \"column\": \"time_spent(second)\",\n      \"properties\": {\n        \"dtype\": \"number\",\n        \"std\": 35320.19755967681,\n        \"min\": -12.12641883,\n        \"max\": 100000.0,\n        \"num_unique_values\": 8,\n        \"samples\": [\n          109.84887107321137,\n          107.95343675000001,\n          100000.0\n        ],\n        \"semantic_type\": \"\",\n        \"description\": \"\"\n      }\n    },\n    {\n      \"column\": \"order_value_idr\",\n      \"properties\": {\n        \"dtype\": \"number\",\n        \"std\": 35355.33905932738,\n        \"min\": 0.0,\n        \"max\": 100000.0,\n        \"num_unique_values\": 2,\n        \"samples\": [\n          0.0,\n          100000.0\n        ],\n        \"semantic_type\": \"\",\n        \"description\": \"\"\n      }\n    }\n  ]\n}"
            }
          },
          "metadata": {},
          "execution_count": 28
        }
      ]
    },
    {
      "cell_type": "markdown",
      "source": [
        "4.Ringkasan Data Berdasarkan Group"
      ],
      "metadata": {
        "id": "H3io5ZemNZZ8"
      }
    },
    {
      "cell_type": "code",
      "source": [
        "df[\"time_spent(second)\"] = pd.to_numeric(df[\"time_spent(second)\"], errors=\"coerce\")\n",
        "df[\"order_value_idr\"] = pd.to_numeric(df[\"order_value_idr\"], errors=\"coerce\")\n",
        "df[\"converted\"] = pd.to_numeric(df[\"converted\"], errors=\"coerce\")"
      ],
      "metadata": {
        "id": "03jeXtd7NctT"
      },
      "execution_count": null,
      "outputs": []
    },
    {
      "cell_type": "code",
      "source": [
        "# Menambahkan kolom untuk bounce rate (bounced = 1 jika tidak mengonversi, 0)\n",
        "df[\"bounced\"] = 1 - df[\"converted\"]"
      ],
      "metadata": {
        "id": "qVg3so9LNq9z"
      },
      "execution_count": null,
      "outputs": []
    },
    {
      "cell_type": "code",
      "source": [
        "summary = df.groupby(\"group\").agg(\n",
        "    total_users = (\"user_id\", \"count\"),\n",
        "    total_conversion = (\"converted\", \"sum\"),\n",
        "    conversion_rate = (\"converted\", lambda x: x.mean() * 100),\n",
        "    total_bounce = (\"bounced\", \"sum\"),\n",
        "    bounce_rate = (\"bounced\", lambda x: (x.sum() / x.count()) * 100),\n",
        "    avg_time_spent = (\"time_spent(second)\", \"mean\"),\n",
        "    avg_order_value = (\"order_value_idr\", \"mean\")\n",
        ")\n",
        "print(\"Ringkasan Metrik Utama:\")\n",
        "print(summary)"
      ],
      "metadata": {
        "id": "atVbB-dtNwnR",
        "outputId": "2846b579-2e40-4faa-c6a2-0391cc0e1dec",
        "colab": {
          "base_uri": "https://localhost:8080/"
        }
      },
      "execution_count": null,
      "outputs": [
        {
          "output_type": "stream",
          "name": "stdout",
          "text": [
            "Ringkasan Metrik Utama:\n",
            "       total_users  total_conversion  conversion_rate  total_bounce  \\\n",
            "group                                                                 \n",
            "A            49934              3895         7.800296         46039   \n",
            "B            50066              5559        11.103344         44507   \n",
            "\n",
            "       bounce_rate  avg_time_spent  avg_order_value  \n",
            "group                                                \n",
            "A        92.199704      119.713851              0.0  \n",
            "B        88.896656      100.009901              0.0  \n"
          ]
        }
      ]
    },
    {
      "cell_type": "markdown",
      "source": [
        "5. Visualisasi Data"
      ],
      "metadata": {
        "id": "RJIfSkKfOCVa"
      }
    },
    {
      "cell_type": "code",
      "source": [
        "fig, axes = plt.subplots(1, 2, figsize=(12, 5))\n",
        "\n",
        "## Conversion Rate\n",
        "sns.barplot(x=\"group\", y=\"converted\", data=df, estimator=np.mean, ci=\"sd\", ax=axes[0])\n",
        "axes[0].set_title(\"Conversion Rate by Group\")\n",
        "axes[0].set_label(\"Conversion Rate\")\n",
        "\n",
        "## Bounce Rate\n",
        "sns.barplot(x=\"group\", y=\"bounced\", data=df, estimator=np.mean, ci=\"sd\", ax=axes[1])\n",
        "axes[1].set_title(\"Bounce Rate by Group\")\n",
        "axes[1].set_label(\"Bounce Rate\")\n",
        "\n",
        "plt.tight_layout()\n",
        "plt.show()"
      ],
      "metadata": {
        "id": "bvPNGM2HOD4D",
        "outputId": "46b68aeb-37e1-428a-b8a8-4715fb6ddfef",
        "colab": {
          "base_uri": "https://localhost:8080/",
          "height": 686
        }
      },
      "execution_count": null,
      "outputs": [
        {
          "output_type": "stream",
          "name": "stderr",
          "text": [
            "/tmp/ipython-input-32-3667306269.py:4: FutureWarning: \n",
            "\n",
            "The `ci` parameter is deprecated. Use `errorbar='sd'` for the same effect.\n",
            "\n",
            "  sns.barplot(x=\"group\", y=\"converted\", data=df, estimator=np.mean, ci=\"sd\", ax=axes[0])\n",
            "/tmp/ipython-input-32-3667306269.py:9: FutureWarning: \n",
            "\n",
            "The `ci` parameter is deprecated. Use `errorbar='sd'` for the same effect.\n",
            "\n",
            "  sns.barplot(x=\"group\", y=\"bounced\", data=df, estimator=np.mean, ci=\"sd\", ax=axes[1])\n"
          ]
        },
        {
          "output_type": "display_data",
          "data": {
            "text/plain": [
              "<Figure size 1200x500 with 2 Axes>"
            ],
            "image/png": "[encoded data removed]"
          },
          "metadata": {}
        }
      ]
    },
    {
      "cell_type": "markdown",
      "source": [
        "6. Uji Hipotesis"
      ],
      "metadata": {
        "id": "xlOL3jyZOhiy"
      }
    },
    {
      "cell_type": "markdown",
      "source": [
        "a. Persiapan Data"
      ],
      "metadata": {
        "id": "W-cjA0lrOqm3"
      }
    },
    {
      "cell_type": "code",
      "source": [
        "## Pisahkan data berdasarkan group\n",
        "group_A = df[df[\"group\"]==\"A\"]\n",
        "group_B = df[df[\"group\"]==\"B\"]"
      ],
      "metadata": {
        "id": "YG9ycMqLOvbB"
      },
      "execution_count": null,
      "outputs": []
    },
    {
      "cell_type": "markdown",
      "source": [
        "\n",
        "\n",
        "b. Uji Statistik\n",
        "\n",
        "    Menggunakan z-test untuk tingkat konversi (karena ini adalah data kategori/biner).\n",
        "    Menggunakan t-test untuk metrik kontinu seperti waktu yang dihabiskan dan nilai pesanan.\n",
        "\n"
      ],
      "metadata": {
        "id": "PLOBP-IFO5cQ"
      }
    },
    {
      "cell_type": "code",
      "source": [
        "## Z-test untuk tingkat konversi\n",
        "from statsmodels.stats.proportion import proportions_ztest\n",
        "\n",
        "success_converted = [group_A[\"converted\"].sum(), group_B[\"converted\"].sum()]\n",
        "trials_converted = [group_A[\"converted\"].count(), group_B[\"converted\"].count()]\n",
        "z_stat_conv, p_value_conv = proportions_ztest(success_converted, trials_converted)\n",
        "\n",
        "## Z-test untuk bounce rate\n",
        "success_bounced = [group_A[\"bounced\"].sum(), group_B[\"bounced\"].sum()]\n",
        "trials_bounced = [group_A[\"bounced\"].count(), group_B[\"bounced\"].count()]\n",
        "z_stat_bounce, p_value_bounce = proportions_ztest(success_bounced, trials_bounced)\n",
        "\n",
        "## T-test untuk waktu yang dihabiskan\n",
        "t_stat_time, p_value_time = stats.ttest_ind(group_A[\"time_spent(second)\"], group_B[\"time_spent(second)\"])\n",
        "\n",
        "## T-test untuk rata-rata nilai pesanan\n",
        "t_stat_order, p_value_order = stats.ttest_ind(group_A[\"order_value_idr\"], group_B[\"order_value_idr\"])\n",
        "\n",
        "## Hasil Uji Statistik\n",
        "print(\"\\nHasil Uji Statistik:\")\n",
        "print(f\"Tingkat Konversi - Z-Stat: {z_stat_conv:.2f}, P-Value: {p_value_conv:.4f}\")\n",
        "print(f\"Tingkat Bounce Rate - Z-Stat: {z_stat_bounce:.2f}, P-Value : {p_value_bounce:.4f}\")\n",
        "print(f\"Waktu di Halaman - T-Stat: {t_stat_time:.2f}, P-Value: {p_value_time:.4f}\")\n",
        "print(f\"Rata-rata Nilai Pesanan - T-Stat: {t_stat_order:.2f}, P-Value:{t_stat_order:.4f}\")"
      ],
      "metadata": {
        "id": "WoswbSy4O7kl",
        "outputId": "b5202ad8-a2f3-4e39-ac22-aaf8f06e8605",
        "colab": {
          "base_uri": "https://localhost:8080/"
        }
      },
      "execution_count": null,
      "outputs": [
        {
          "output_type": "stream",
          "name": "stdout",
          "text": [
            "\n",
            "Hasil Uji Statistik:\n",
            "Tingkat Konversi - Z-Stat: -17.85, P-Value: 0.0000\n",
            "Tingkat Bounce Rate - Z-Stat: 17.85, P-Value : 0.0000\n",
            "Waktu di Halaman - T-Stat: 122.22, P-Value: 0.0000\n",
            "Rata-rata Nilai Pesanan - T-Stat: nan, P-Value:nan\n"
          ]
        }
      ]
    },
    {
      "cell_type": "markdown",
      "source": [
        "7. Analisis"
      ],
      "metadata": {
        "id": "HzKN2vnHPGnw"
      }
    },
    {
      "cell_type": "markdown",
      "source": [
        "1. Tingkat Konversi\n",
        "\n",
        "    Z-Stat: -17.85, P-Value: 0.0000\n",
        "\n",
        "    Hasil uji Z menunjukkan perbedaan yang sangat signifikan antara Grup A (kontrol) dan Grup B (variasi). P-Value yang jauh di bawah 0.05 (nilai signifikansi standar) mengindikasikan bahwa perubahan desain halaman checkout dari kontrol ke variasi mempengaruhi tingkat konversi secara signifikan. Hipotesis bahwa desain yang lebih sederhana meningkatkan konversi diterima.\n",
        "2. Tingkat Bounce Rate\n",
        "\n",
        "    Z-Stat: 17.85, P-Value: 0.0000\n",
        "\n",
        "    Hasil ini menunjukkan bahwa perbedaan dalam tingkat bounce rate antara Grup A dan Grup B sangat signifikan. P-Value yang sangat kecil mengindikasikan bahwa desain halaman checkout baru mengurangi tingkat pentalan (bounce rate), yang berarti pengguna lebih cenderung tetap berada di halaman checkout pada versi baru. Ini mendukung hipotesis bahwa desain yang lebih sederhana dan lebih mudah dinavigasi mengurangi kebingungan dan meningkatkan keterlibatan.\n",
        "3. Waktu di Halaman\n",
        "\n",
        "    T-Stat: 122.22, P-Value: 0.0000\n",
        "\n",
        "    Hasil uji T menunjukkan perbedaan signifikan dalam waktu yang dihabiskan di halaman checkout antara Grup A dan Grup B. Dengan P-Value yang sangat kecil, kita dapat menyimpulkan bahwa desain baru mempengaruhi waktu interaksi pengguna, meskipun lebih banyak waktu dihabiskan di halaman checkout, ini bisa menjadi indikator bahwa pengguna merasa lebih nyaman dan lebih cenderung menyelesaikan pembelian.\n",
        "4. Rata-rata Nilai Pesanan\n",
        "\n",
        "    T-Stat: nan, P-Value: nan\n",
        "\n",
        "    Nilai NaN pada hasil uji ini mengindikasikan adanya masalah dalam data, mungkin karena nilai NaN atau distribusi yang tidak memadai dalam salah satu grup. Oleh karena itu, tidak ada kesimpulan yang dapat ditarik mengenai perbedaan rata-rata nilai pesanan antara grup kontrol dan variasi. Pengisian atau pengecekan lebih lanjut terhadap data perlu dilakukan.\n"
      ],
      "metadata": {
        "id": "dMZ2v_9ZPIHi"
      }
    },
    {
      "cell_type": "markdown",
      "source": [
        "\n",
        "8. Kesimpulan\n",
        "\n",
        "    Desain checkout yang disederhanakan (Versi B) signifikan meningkatkan tingkat konversi dan mengurangi bounce rate.\n",
        "    Waktu di halaman checkout juga meningkat, menunjukkan bahwa pengguna mungkin lebih terlibat dengan proses checkout.\n",
        "    Masalah dengan nilai pesanan perlu diperbaiki atau diperiksa lebih lanjut, karena data menunjukkan hasil yang tidak konsisten.\n",
        "    Secara keseluruhan, perubahan desain halaman checkout memberikan dampak positif terhadap metrik utama dan sekunder, mendukung hipotesis awal untuk meningkatkan pengalaman pengguna dan tingkat konversi.\n",
        "\n"
      ],
      "metadata": {
        "id": "fcBtY_OUPXJQ"
      }
    }
  ],
  "metadata": {
    "colab": {
      "provenance": []
    },
    "kernelspec": {
      "display_name": "Python 3",
      "name": "python3"
    }
  },
  "nbformat": 4,
  "nbformat_minor": 0
}